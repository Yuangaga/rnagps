{
 "cells": [
  {
   "cell_type": "code",
   "execution_count": 8,
   "metadata": {},
   "outputs": [
    {
     "name": "stdout",
     "output_type": "stream",
     "text": [
      "The scikit-learn version is 0.21.3.\n"
     ]
    }
   ],
   "source": [
    "import os\n",
    "import sys\n",
    "import socket\n",
    "import pickle\n",
    "import importlib\n",
    "import itertools\n",
    "import functools\n",
    "import collections\n",
    "import logging\n",
    "logging.basicConfig(level=logging.INFO)\n",
    "\n",
    "import tqdm\n",
    "\n",
    "import scipy\n",
    "import pandas as pd\n",
    "import numpy as np\n",
    "import matplotlib.pyplot as plt\n",
    "plt.style.use('ggplot')\n",
    "import seaborn as sns\n",
    "\n",
    "import xgboost as xgb\n",
    "\n",
    "from statsmodels.stats.multitest import multipletests\n",
    "\n",
    "import sklearn\n",
    "from sklearn.linear_model import LogisticRegression\n",
    "from sklearn.ensemble import RandomForestClassifier\n",
    "import sklearn.metrics as metrics\n",
    "from sklearn.pipeline import Pipeline\n",
    "from sklearn.model_selection import cross_validate, train_test_split, KFold, GridSearchCV\n",
    "\n",
    "# Figure out local paths\n",
    "SRC_DIR = os.path.join(os.path.dirname(os.path.dirname(os.getcwd())), 'rnagps')\n",
    "assert os.path.isdir(SRC_DIR)\n",
    "sys.path.append(SRC_DIR)\n",
    "import data_loader\n",
    "import model_utils\n",
    "import plotting_utils\n",
    "import utils\n",
    "import seq\n",
    "\n",
    "PLOT_DIR = os.path.join(os.path.dirname(SRC_DIR), \"plots\")\n",
    "assert os.path.isdir(PLOT_DIR)\n",
    "plt.style.use(['default', os.path.join(SRC_DIR, 'seaborn-paper-custom.mplstyle')])\n",
    "\n",
    "MODEL_DIR = os.path.join(os.path.dirname(SRC_DIR), \"models\")\n",
    "assert os.path.isdir(MODEL_DIR)\n",
    "\n",
    "np.random.seed(27492)\n",
    "SEED = 27492\n",
    "\n",
    "print('The scikit-learn version is {}.'.format(sklearn.__version__))"
   ]
  },
  {
   "cell_type": "code",
   "execution_count": 2,
   "metadata": {},
   "outputs": [
    {
     "name": "stderr",
     "output_type": "stream",
     "text": [
      "INFO:root:Read deseq table containing results for localizations: Erm Kdel Lma Mito Nes Nik Nls NucPore Omm\n",
      "INFO:root:Retaining data only for Lma Nik Nls NucPore\n",
      "INFO:root:Retaining 2179/20510 genes as significant\n",
      "INFO:root:Lma - 613/1743 = 0.3516924842226047 positive\n",
      "INFO:root:Nik - 1122/1743 = 0.6437177280550774 positive\n",
      "INFO:root:Nls - 657/1743 = 0.3769363166953528 positive\n",
      "INFO:root:NucPore - 126/1743 = 0.07228915662650602 positive\n",
      "WARNING:root:Encountered rows with positive labels in all compartments\n",
      "INFO:root:1459\t0.8370625358577166\tprotein_coding\n",
      "INFO:root:75\t0.043029259896729774\tantisense_RNA\n",
      "INFO:root:70\t0.040160642570281124\tlincRNA\n",
      "INFO:root:37\t0.021227768215720023\tprocessed_pseudogene\n",
      "INFO:root:35\t0.020080321285140562\ttranscribed_unprocessed_pseudogene\n",
      "INFO:root:18\t0.010327022375215147\tprocessed_transcript\n",
      "INFO:root:7\t0.004016064257028112\tsense_overlapping\n",
      "INFO:root:7\t0.004016064257028112\tunprocessed_pseudogene\n",
      "INFO:root:7\t0.004016064257028112\trRNA\n",
      "INFO:root:6\t0.0034423407917383822\tmisc_RNA\n",
      "INFO:root:6\t0.0034423407917383822\ttranscribed_processed_pseudogene\n",
      "INFO:root:6\t0.0034423407917383822\tsense_intronic\n",
      "INFO:root:3\t0.0017211703958691911\ttranscribed_unitary_pseudogene\n",
      "INFO:root:1\t0.0005737234652897303\tmacro_lncRNA\n",
      "INFO:root:1\t0.0005737234652897303\tpseudogene\n",
      "INFO:root:1\t0.0005737234652897303\tpolymorphic_pseudogene\n",
      "INFO:root:1\t0.0005737234652897303\t3prime_overlapping_ncRNA\n",
      "INFO:root:1\t0.0005737234652897303\tIG_V_pseudogene\n",
      "INFO:root:1\t0.0005737234652897303\tsnoRNA\n",
      "INFO:root:1\t0.0005737234652897303\tsnRNA\n",
      "INFO:root:Read deseq table containing results for localizations: Erm Kdel Lma Mito Nes Nik Nls NucPore Omm\n",
      "INFO:root:Retaining data only for Lma Nik Nls NucPore\n",
      "INFO:root:Retaining 2179/20510 genes as significant\n",
      "INFO:root:Lma - 68/218 = 0.3119266055045872 positive\n",
      "INFO:root:Nik - 133/218 = 0.6100917431192661 positive\n",
      "INFO:root:Nls - 79/218 = 0.3623853211009174 positive\n",
      "INFO:root:NucPore - 20/218 = 0.09174311926605505 positive\n",
      "WARNING:root:Encountered rows with positive labels in all compartments\n",
      "INFO:root:182\t0.8348623853211009\tprotein_coding\n",
      "INFO:root:13\t0.05963302752293578\tlincRNA\n",
      "INFO:root:6\t0.027522935779816515\tprocessed_transcript\n",
      "INFO:root:4\t0.01834862385321101\tantisense_RNA\n",
      "INFO:root:4\t0.01834862385321101\ttranscribed_unprocessed_pseudogene\n",
      "INFO:root:2\t0.009174311926605505\tmiRNA\n",
      "INFO:root:2\t0.009174311926605505\tprocessed_pseudogene\n",
      "INFO:root:2\t0.009174311926605505\tsense_overlapping\n",
      "INFO:root:1\t0.0045871559633027525\trRNA\n",
      "INFO:root:1\t0.0045871559633027525\tmisc_RNA\n",
      "INFO:root:1\t0.0045871559633027525\ttranscribed_processed_pseudogene\n",
      "INFO:root:Read deseq table containing results for localizations: Erm Kdel Lma Mito Nes Nik Nls NucPore Omm\n",
      "INFO:root:Retaining data only for Lma Nik Nls NucPore\n",
      "INFO:root:Retaining 2179/20510 genes as significant\n",
      "INFO:root:Lma - 87/218 = 0.39908256880733944 positive\n",
      "INFO:root:Nik - 116/218 = 0.5321100917431193 positive\n",
      "INFO:root:Nls - 87/218 = 0.39908256880733944 positive\n",
      "INFO:root:NucPore - 13/218 = 0.05963302752293578 positive\n",
      "INFO:root:185\t0.8486238532110092\tprotein_coding\n",
      "INFO:root:12\t0.05504587155963303\tlincRNA\n",
      "INFO:root:6\t0.027522935779816515\tantisense_RNA\n",
      "INFO:root:4\t0.01834862385321101\ttranscribed_unprocessed_pseudogene\n",
      "INFO:root:3\t0.013761467889908258\tsense_overlapping\n",
      "INFO:root:2\t0.009174311926605505\tprocessed_transcript\n",
      "INFO:root:2\t0.009174311926605505\ttranscribed_processed_pseudogene\n",
      "INFO:root:1\t0.0045871559633027525\tsense_intronic\n",
      "INFO:root:1\t0.0045871559633027525\tmisc_RNA\n",
      "INFO:root:1\t0.0045871559633027525\tunprocessed_pseudogene\n",
      "INFO:root:1\t0.0045871559633027525\tprocessed_pseudogene\n"
     ]
    },
    {
     "data": {
      "application/vnd.jupyter.widget-view+json": {
       "model_id": "d4546e95866b48619b92a9eeffa4bb06",
       "version_major": 2,
       "version_minor": 0
      },
      "text/plain": [
       "HBox(children=(IntProgress(value=0, max=1743), HTML(value='')))"
      ]
     },
     "metadata": {},
     "output_type": "display_data"
    },
    {
     "name": "stdout",
     "output_type": "stream",
     "text": [
      "\n"
     ]
    },
    {
     "data": {
      "application/vnd.jupyter.widget-view+json": {
       "model_id": "e1e49a1ad64a4df382f00cb2dcd952fd",
       "version_major": 2,
       "version_minor": 0
      },
      "text/plain": [
       "HBox(children=(IntProgress(value=0, max=218), HTML(value='')))"
      ]
     },
     "metadata": {},
     "output_type": "display_data"
    },
    {
     "name": "stdout",
     "output_type": "stream",
     "text": [
      "\n"
     ]
    },
    {
     "data": {
      "application/vnd.jupyter.widget-view+json": {
       "model_id": "50b053ffed264b6f82c59a402d7a02a0",
       "version_major": 2,
       "version_minor": 0
      },
      "text/plain": [
       "HBox(children=(IntProgress(value=0, max=218), HTML(value='')))"
      ]
     },
     "metadata": {},
     "output_type": "display_data"
    },
    {
     "name": "stdout",
     "output_type": "stream",
     "text": [
      "\n"
     ]
    }
   ],
   "source": [
    "importlib.reload(data_loader)\n",
    "K_FOLD = 5\n",
    "nuc_localizations = [\"Lma\", \"Nik\", \"Nls\", \"NucPore\"]\n",
    "nuc_train_dataset = data_loader.LocalizationClassificationKmers(\"train\", k_fold=K_FOLD, kmer_sizes=[3, 4, 5], localizations=nuc_localizations, addtl_negatives=False)\n",
    "nuc_valid_dataset = data_loader.LocalizationClassificationKmers(\"valid\", k_fold=K_FOLD, kmer_sizes=[3, 4, 5], localizations=nuc_localizations, addtl_negatives=False)\n",
    "nuc_test_dataset = data_loader.LocalizationClassificationKmers(\"test\", k_fold=K_FOLD, kmer_sizes=[3, 4, 5], localizations=nuc_localizations, addtl_negatives=False)\n",
    "nuc_train_data = data_loader.load_data_as_np(nuc_train_dataset)\n",
    "nuc_valid_data = data_loader.load_data_as_np(nuc_valid_dataset)\n",
    "nuc_test_data = data_loader.load_data_as_np(nuc_test_dataset)"
   ]
  },
  {
   "cell_type": "code",
   "execution_count": 3,
   "metadata": {},
   "outputs": [
    {
     "name": "stderr",
     "output_type": "stream",
     "text": [
      "INFO:root:Read deseq table containing results for localizations: Erm Kdel Lma Mito Nes Nik Nls NucPore Omm\n",
      "INFO:root:Retaining data only for Erm Mito Nes Omm\n",
      "INFO:root:Retaining 1860/19511 genes as significant\n",
      "INFO:root:Erm - 976/1488 = 0.6559139784946236 positive\n",
      "INFO:root:Mito - 230/1488 = 0.15456989247311828 positive\n",
      "INFO:root:Nes - 178/1488 = 0.1196236559139785 positive\n",
      "INFO:root:Omm - 595/1488 = 0.39986559139784944 positive\n",
      "INFO:root:1430\t0.9610215053763441\tprotein_coding\n",
      "INFO:root:12\t0.008064516129032258\tMt_tRNA\n",
      "INFO:root:12\t0.008064516129032258\tantisense_RNA\n",
      "INFO:root:9\t0.006048387096774193\tprocessed_pseudogene\n",
      "INFO:root:7\t0.004704301075268817\ttranscribed_unprocessed_pseudogene\n",
      "INFO:root:6\t0.004032258064516129\tunprocessed_pseudogene\n",
      "INFO:root:4\t0.002688172043010753\tlincRNA\n",
      "INFO:root:3\t0.0020161290322580645\ttranscribed_processed_pseudogene\n",
      "INFO:root:2\t0.0013440860215053765\tMt_rRNA\n",
      "INFO:root:2\t0.0013440860215053765\tprocessed_transcript\n",
      "INFO:root:1\t0.0006720430107526882\ttranscribed_unitary_pseudogene\n",
      "INFO:root:Read deseq table containing results for localizations: Erm Kdel Lma Mito Nes Nik Nls NucPore Omm\n",
      "INFO:root:Retaining data only for Erm Mito Nes Omm\n",
      "INFO:root:Retaining 1860/19511 genes as significant\n",
      "INFO:root:Erm - 128/186 = 0.6881720430107527 positive\n",
      "INFO:root:Mito - 34/186 = 0.1827956989247312 positive\n",
      "INFO:root:Nes - 15/186 = 0.08064516129032258 positive\n",
      "INFO:root:Omm - 66/186 = 0.3548387096774194 positive\n",
      "INFO:root:178\t0.956989247311828\tprotein_coding\n",
      "INFO:root:3\t0.016129032258064516\tMt_tRNA\n",
      "INFO:root:2\t0.010752688172043012\tantisense_RNA\n",
      "INFO:root:2\t0.010752688172043012\tlincRNA\n",
      "INFO:root:1\t0.005376344086021506\ttranslated_processed_pseudogene\n",
      "INFO:root:Read deseq table containing results for localizations: Erm Kdel Lma Mito Nes Nik Nls NucPore Omm\n",
      "INFO:root:Retaining data only for Erm Mito Nes Omm\n",
      "INFO:root:Retaining 1860/19511 genes as significant\n",
      "INFO:root:Erm - 119/186 = 0.6397849462365591 positive\n",
      "INFO:root:Mito - 37/186 = 0.1989247311827957 positive\n",
      "INFO:root:Nes - 15/186 = 0.08064516129032258 positive\n",
      "INFO:root:Omm - 78/186 = 0.41935483870967744 positive\n",
      "INFO:root:176\t0.946236559139785\tprotein_coding\n",
      "INFO:root:3\t0.016129032258064516\ttranscribed_unprocessed_pseudogene\n",
      "INFO:root:3\t0.016129032258064516\tMt_tRNA\n",
      "INFO:root:2\t0.010752688172043012\tprocessed_pseudogene\n",
      "INFO:root:1\t0.005376344086021506\tantisense_RNA\n",
      "INFO:root:1\t0.005376344086021506\tlincRNA\n"
     ]
    },
    {
     "data": {
      "application/vnd.jupyter.widget-view+json": {
       "model_id": "95b72b3373f944679e615889488de0f2",
       "version_major": 2,
       "version_minor": 0
      },
      "text/plain": [
       "HBox(children=(IntProgress(value=0, max=1488), HTML(value='')))"
      ]
     },
     "metadata": {},
     "output_type": "display_data"
    },
    {
     "name": "stdout",
     "output_type": "stream",
     "text": [
      "\n"
     ]
    },
    {
     "data": {
      "application/vnd.jupyter.widget-view+json": {
       "model_id": "f8955188e3d145cdb0a7cd644cec11fe",
       "version_major": 2,
       "version_minor": 0
      },
      "text/plain": [
       "HBox(children=(IntProgress(value=0, max=186), HTML(value='')))"
      ]
     },
     "metadata": {},
     "output_type": "display_data"
    },
    {
     "name": "stdout",
     "output_type": "stream",
     "text": [
      "\n"
     ]
    },
    {
     "data": {
      "application/vnd.jupyter.widget-view+json": {
       "model_id": "b52ba1ecab824a0b828d03c9c248dda2",
       "version_major": 2,
       "version_minor": 0
      },
      "text/plain": [
       "HBox(children=(IntProgress(value=0, max=186), HTML(value='')))"
      ]
     },
     "metadata": {},
     "output_type": "display_data"
    },
    {
     "name": "stdout",
     "output_type": "stream",
     "text": [
      "\n"
     ]
    }
   ],
   "source": [
    "importlib.reload(data_loader)\n",
    "K_FOLD = 5\n",
    "cyto_localizations = [\"Erm\", \"Mito\", \"Nes\", \"Omm\"]\n",
    "cyto_train_dataset = data_loader.LocalizationClassificationKmers(\"train\", k_fold=K_FOLD, kmer_sizes=[3, 4, 5], localizations=cyto_localizations, addtl_negatives=False)\n",
    "cyto_valid_dataset = data_loader.LocalizationClassificationKmers(\"valid\", k_fold=K_FOLD, kmer_sizes=[3, 4, 5], localizations=cyto_localizations, addtl_negatives=False)\n",
    "cyto_test_dataset = data_loader.LocalizationClassificationKmers(\"test\", k_fold=K_FOLD, kmer_sizes=[3, 4, 5], localizations=cyto_localizations, addtl_negatives=False)\n",
    "cyto_train_data = data_loader.load_data_as_np(cyto_train_dataset)\n",
    "cyto_valid_data = data_loader.load_data_as_np(cyto_valid_dataset)\n",
    "cyto_test_data = data_loader.load_data_as_np(cyto_test_dataset)"
   ]
  },
  {
   "cell_type": "code",
   "execution_count": 4,
   "metadata": {},
   "outputs": [],
   "source": [
    "# Params taken from overall optimal params, not fine tuned here yet\n",
    "rf_optimal_params = (300, 'entropy', 100, 0.001, 'sqrt', None)\n",
    "rf_optimal_param_dict = {\n",
    "    \"n_estimators\": rf_optimal_params[0],\n",
    "    \"criterion\": rf_optimal_params[1],\n",
    "    \"max_depth\": rf_optimal_params[2],\n",
    "    \"min_samples_leaf\": rf_optimal_params[3],\n",
    "    \"max_features\": rf_optimal_params[4],\n",
    "    \"class_weight\": rf_optimal_params[5],\n",
    "    \"n_jobs\": 32,\n",
    "    \"random_state\": 39282,\n",
    "}"
   ]
  },
  {
   "cell_type": "code",
   "execution_count": 6,
   "metadata": {},
   "outputs": [
    {
     "data": {
      "text/plain": [
       "(0.7299855859239881, 0.5710418328744873)"
      ]
     },
     "execution_count": 6,
     "metadata": {},
     "output_type": "execute_result"
    }
   ],
   "source": [
    "nuc_rf_model, nuc_rf_per_class_perf, nuc_rf_overall_perf = model_utils.multi_train(\n",
    "    RandomForestClassifier(**rf_optimal_param_dict),\n",
    "    nuc_train_data,\n",
    "    nuc_valid_data,\n",
    "    verbose=False,\n",
    ")\n",
    "nuc_rf_overall_perf.auroc, nuc_rf_overall_perf.auprc"
   ]
  },
  {
   "cell_type": "code",
   "execution_count": 7,
   "metadata": {},
   "outputs": [
    {
     "data": {
      "text/plain": [
       "(0.7725705215420189, 0.5795132010062691)"
      ]
     },
     "execution_count": 7,
     "metadata": {},
     "output_type": "execute_result"
    }
   ],
   "source": [
    "cyto_rf_model, cyto_rf_per_class_perf, cyto_rf_overall_perf = model_utils.multi_train(\n",
    "    RandomForestClassifier(**rf_optimal_param_dict),\n",
    "    cyto_train_data,\n",
    "    cyto_valid_data,\n",
    "    verbose=False,\n",
    ")\n",
    "cyto_rf_overall_perf.auroc, cyto_rf_overall_perf.auprc"
   ]
  },
  {
   "cell_type": "code",
   "execution_count": 10,
   "metadata": {},
   "outputs": [
    {
     "data": {
      "text/plain": [
       "'/storage/wukevin/projects/rnagps/models/rf_cyto_only.0.21.3.skmodel'"
      ]
     },
     "execution_count": 10,
     "metadata": {},
     "output_type": "execute_result"
    }
   ],
   "source": [
    "utils.save_sklearn_model(nuc_rf_model, os.path.join(MODEL_DIR, \"rf_nuc_only\"))\n",
    "utils.save_sklearn_model(cyto_rf_model, os.path.join(MODEL_DIR, \"rf_cyto_only\"))"
   ]
  }
 ],
 "metadata": {
  "kernelspec": {
   "display_name": "Python 3",
   "language": "python",
   "name": "python3"
  },
  "language_info": {
   "codemirror_mode": {
    "name": "ipython",
    "version": 3
   },
   "file_extension": ".py",
   "mimetype": "text/x-python",
   "name": "python",
   "nbconvert_exporter": "python",
   "pygments_lexer": "ipython3",
   "version": "3.7.3"
  }
 },
 "nbformat": 4,
 "nbformat_minor": 2
}
